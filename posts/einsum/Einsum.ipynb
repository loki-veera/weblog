{
 "cells": [
  {
   "attachments": {},
   "cell_type": "markdown",
   "id": "1874f42d",
   "metadata": {},
   "source": [
    "---\n",
    "title: \"Matrix Operations using EINSUM\"\n",
    "author: \"Lokesh Veeramachenei\"\n",
    "date: \"2023-04-09\"\n",
    "format:\n",
    "  html:\n",
    "    code-fold: false\n",
    "execute:\n",
    "  enables: true\n",
    "jupyter:\n",
    "  python3\n",
    "---"
   ]
  },
  {
   "attachments": {},
   "cell_type": "markdown",
   "id": "13fe34d6",
   "metadata": {},
   "source": [
    "### Keywords:\n",
    "einsum, matrix multiplications, multidimensional linear algebra, multi-head attention."
   ]
  },
  {
   "cell_type": "code",
   "execution_count": 1,
   "id": "5f4c0ff1",
   "metadata": {},
   "outputs": [],
   "source": [
    "import torch"
   ]
  },
  {
   "cell_type": "markdown",
   "id": "893efbcf",
   "metadata": {},
   "source": [
    "## Why should you use einsum?\n",
    "Working on higher dimensional algebra like tensor multiplications/additions, they used to make picture perfect sense on paper. When trying to implement using APIs/frameworks like numpy/torch, I always end up in lots of confusion and frequently would have to check the resultant tensor shapes. Here comes einsum to the resuce for me. Einsum is easy to learn and all you need to know is, to understand the tensor shapes and how the resulting tensor should look like. Einsum is also able to perform multiple operations on resultant tensor like swap axes/transpose. Also most of the APIs be it numpy, torch, tensorflow has a builtin einsum function. As easy as it sounds, in my experience most of the machine learning enthusiasts have never come across this function and not everyone knows about this simple yet magical function. So lets directly jump to an example of 3D matrix multiplications, first we perform traditional way of multiplication and later look at the einsum way."
   ]
  },
  {
   "cell_type": "markdown",
   "id": "83c91de3",
   "metadata": {},
   "source": [
    "Lets say, we have to multiply two matrices of shapes (3, 4) and (3, 1, 9). For this, the only way is to bump the first matrix to 3D with shape (3, 4, 1) and multiply. Then resultant matrix would be of shape (3, 4, 9). This is usally done in torch as below"
   ]
  },
  {
   "cell_type": "code",
   "execution_count": 2,
   "id": "89bc9166",
   "metadata": {},
   "outputs": [
    {
     "name": "stdout",
     "output_type": "stream",
     "text": [
      "matrix A Shape: torch.Size([3, 4, 1])\n",
      "Resultant matrix shape: torch.Size([3, 4, 9])\n"
     ]
    }
   ],
   "source": [
    "A = torch.randn(3, 4)\n",
    "B = torch.randn(3, 1, 9)\n",
    "# Bump A to 3D\n",
    "A = A.unsqueeze(-1)\n",
    "print(f'matrix A Shape: {A.shape}')\n",
    "# Use torch matmul for matrix multiplication\n",
    "resultant = torch.matmul(A, B)\n",
    "print(f'Resultant matrix shape: {resultant.shape}')"
   ]
  },
  {
   "cell_type": "markdown",
   "id": "68d19e57",
   "metadata": {},
   "source": [
    "Same multiplication in einsum is computed as"
   ]
  },
  {
   "cell_type": "code",
   "execution_count": 3,
   "id": "e99530d0",
   "metadata": {},
   "outputs": [
    {
     "name": "stdout",
     "output_type": "stream",
     "text": [
      "Einsum resultant matrix shape: torch.Size([3, 4, 9])\n"
     ]
    }
   ],
   "source": [
    "A = torch.randn(3, 4)\n",
    "B = torch.randn(3, 1, 9)\n",
    "es_resultant = torch.einsum('ij, iqr -> ijr', A, B)\n",
    "print(f'Einsum resultant matrix shape: {es_resultant.shape}')"
   ]
  },
  {
   "cell_type": "markdown",
   "id": "dfa448c1",
   "metadata": {},
   "source": [
    "As you see, it works without any need for dimensional bumping. For me this is in very handy, when implementing the multihead attention in vanilla transformer as matrices are 4D. Further in this page, lets us go through how to use einsum and few of its applications in linear algebra."
   ]
  },
  {
   "cell_type": "markdown",
   "id": "7ccb1162",
   "metadata": {},
   "source": [
    "## How to use einsum?\n",
    "As you see in the above cell, there are two major arguments given to the _torch.einsum_. The second argument is self explanatory as they are the matrices we want to operate on, here by referred as operands as in [1]. The important part of einsum is the first argument which is the equation. The equation is further divided into two parts, first part consisting of the indices of the matrices we are operating on. These are to the left side of the '->' and on the right side, we state the indices we want. Lets see a simple example of matrix transpose."
   ]
  },
  {
   "cell_type": "code",
   "execution_count": 4,
   "id": "5f0e130b",
   "metadata": {},
   "outputs": [
    {
     "name": "stdout",
     "output_type": "stream",
     "text": [
      "matrix A shape: torch.Size([7, 5])\n",
      "matrix A transpose shape: torch.Size([5, 7])\n"
     ]
    }
   ],
   "source": [
    "#----------------------\n",
    "# Transpose of a matrix\n",
    "#----------------------\n",
    "A = torch.randn(7, 5)\n",
    "print(f'matrix A shape: {A.shape}')\n",
    "A_T = torch.einsum('ij->ji', A)\n",
    "print(f'matrix A transpose shape: {A_T.shape}')"
   ]
  },
  {
   "cell_type": "markdown",
   "id": "a95c560e",
   "metadata": {},
   "source": [
    "In the above transpose example, we see that the left side of the equation consists of original indices order $(i,j)$ and to the right side, we specify the order of indices we need $(j, i)$.\n",
    "### Other matrix operations"
   ]
  },
  {
   "cell_type": "code",
   "execution_count": 5,
   "id": "ef8a2f05",
   "metadata": {},
   "outputs": [
    {
     "name": "stdout",
     "output_type": "stream",
     "text": [
      "matrix A:\n",
      "tensor([[1, 2],\n",
      "        [3, 4]])\n",
      "\n",
      "Sum of elements: 10\n"
     ]
    }
   ],
   "source": [
    "#--------------------------\n",
    "# Sum of elements in matrix\n",
    "#--------------------------\n",
    "A = torch.tensor([[1, 2],[3, 4]])\n",
    "print(f'matrix A:\\n{A}\\n')\n",
    "sum_A = torch.einsum('ij->', A)\n",
    "print(f'Sum of elements: {sum_A}')"
   ]
  },
  {
   "cell_type": "code",
   "execution_count": 6,
   "id": "4f3f43f5",
   "metadata": {},
   "outputs": [
    {
     "name": "stdout",
     "output_type": "stream",
     "text": [
      "Sum across columns: tensor([4, 6])\n",
      "Sum across rows: tensor([3, 7])\n"
     ]
    }
   ],
   "source": [
    "#--------------------------------------\n",
    "# Sum across columns and rows in matrix\n",
    "#--------------------------------------\n",
    "column_sum = torch.einsum('ij -> j', A)\n",
    "print(f'Sum across columns: {column_sum}')\n",
    "row_sum = torch.einsum('ij -> i', A)\n",
    "print(f'Sum across rows: {row_sum}')"
   ]
  },
  {
   "cell_type": "code",
   "execution_count": 7,
   "id": "5d35247b",
   "metadata": {},
   "outputs": [
    {
     "name": "stdout",
     "output_type": "stream",
     "text": [
      "Outer product shape: torch.Size([3, 4])\n",
      "\n",
      "Dot product:\n",
      "9\n"
     ]
    }
   ],
   "source": [
    "#---------------------\n",
    "# Vector outer product\n",
    "#---------------------\n",
    "vec_A = torch.randn(3, 1)\n",
    "vec_B = torch.randn(4, 1)\n",
    "outer_AB = torch.einsum('ij, pj -> ip', vec_A, vec_B)\n",
    "print(f'Outer product shape: {outer_AB.shape}')\n",
    "#---------------------------\n",
    "# Vector dot (inner) product\n",
    "#---------------------------\n",
    "vec_A = torch.tensor([[4, 2, 3]])\n",
    "vec_B = torch.tensor([[1, 1, 1]])\n",
    "inner_AB = torch.einsum('ij,ij->', vec_A, vec_B)\n",
    "print(f'\\nDot product:\\n{inner_AB}')"
   ]
  },
  {
   "cell_type": "code",
   "execution_count": 8,
   "id": "50bfa9fe",
   "metadata": {},
   "outputs": [
    {
     "name": "stdout",
     "output_type": "stream",
     "text": [
      "Resultant shape: torch.Size([3, 4])\n"
     ]
    }
   ],
   "source": [
    "#---------------------------\n",
    "# Matrix multiplication (2D)\n",
    "#---------------------------\n",
    "A = torch.randn(3, 7)\n",
    "B = torch.randn(7, 4)\n",
    "matmul = torch.einsum('ij, jp -> ip', A, B)\n",
    "print(f'Resultant shape: {matmul.shape}')"
   ]
  },
  {
   "cell_type": "code",
   "execution_count": 9,
   "id": "4c98d2b1",
   "metadata": {},
   "outputs": [
    {
     "name": "stdout",
     "output_type": "stream",
     "text": [
      "matrix A:\n",
      "tensor([[1, 2],\n",
      "        [3, 4]])\n",
      "\n",
      "matrix B:\n",
      "tensor([[1, 0],\n",
      "        [0, 1]])\n",
      "\n",
      "Elementwise product:\n",
      "tensor([[1, 0],\n",
      "        [0, 4]])\n"
     ]
    }
   ],
   "source": [
    "#---------------------------------------\n",
    "# Matrix Element wise (Hadamard) product\n",
    "#---------------------------------------\n",
    "A = torch.tensor([[1, 2], [3, 4]])\n",
    "B = torch.tensor([[1, 0], [0, 1]])\n",
    "print(f'matrix A:\\n{A}\\n')\n",
    "print(f'matrix B:\\n{B}\\n')\n",
    "element_product = torch.einsum('ij, ij -> ij', A, B)\n",
    "print(f'Elementwise product:\\n{element_product}')"
   ]
  },
  {
   "attachments": {},
   "cell_type": "markdown",
   "id": "ab506aba",
   "metadata": {},
   "source": [
    "I think, this gives better understanding on how to use einsum.\n",
    "\n",
    "## Practical usage:\n",
    "Furthermore lets see how einsum is used in real world examples. Take Transformers for example first proposed in [2], they took the field of deep learning in a whole new direction (in my opinion). Curcial part of transformers is multihead attention block as depicted in below image.\n",
    "![Multi head attention](./multihead_attention.jpeg \"Multi head attention. Image from [2]\")\n",
    "\n",
    "The above image is taken from [2]. Let us implement this block using einsum."
   ]
  },
  {
   "cell_type": "code",
   "execution_count": 10,
   "id": "aabc38db",
   "metadata": {
    "scrolled": true
   },
   "outputs": [
    {
     "name": "stdout",
     "output_type": "stream",
     "text": [
      "torch.Size([16, 10, 512])\n"
     ]
    }
   ],
   "source": [
    "# d_model = 512, d_k = 64, num_heads(h) = 8 as stated in paper [2].\n",
    "# Initialize Linear layers\n",
    "w_q  = torch.randn(64, 64)\n",
    "w_k  = torch.randn(64, 64)\n",
    "w_v  = torch.randn(64, 64)\n",
    "final_linear = torch.randn(512, 512)\n",
    "query= key= value= torch.randn(16, 10, 512) #(batch_size, n_tokens, embedding_size)\n",
    "\n",
    "# split the data for multiple heads\n",
    "query = query.reshape(16, 10, 8, 64) #(batch_size, n_tokens, num_heads, d_k)\n",
    "key   = key.reshape(16, 10, 8, 64)\n",
    "value = value.reshape(16, 10, 8, 64)\n",
    "\n",
    "# Linear projection\n",
    "Q = torch.einsum('ijkl, lp -> ijkp', query, w_q)\n",
    "K = torch.einsum('ijkl, lp -> ijkp', key, w_k)\n",
    "V = torch.einsum('ijkl, lp -> ijkp', value, w_v)\n",
    "\n",
    "# Scaled dot product attention\n",
    "Q_K = torch.einsum('ijkl, ijrl -> ijkr', Q, K)\n",
    "Q_K /= torch.sqrt(torch.tensor(64))\n",
    "softmax_op = torch.nn.functional.softmax(Q_K, dim=-1)\n",
    "attention_weights = torch.einsum('ijkl, ijlr -> ikjr', softmax_op, V)\n",
    "\n",
    "# Concatenate multiple attention head outputs\n",
    "concatenated_weights = attention_weights.reshape(16, 10, -1)\n",
    "output = torch.einsum('ijk, kl -> ijl', concatenated_weights, final_linear)\n",
    "print(output.shape)"
   ]
  },
  {
   "attachments": {},
   "cell_type": "markdown",
   "id": "35841e8f",
   "metadata": {},
   "source": [
    "In general, one can find lot of implementations of multihead attention using _torch.bmm( )_. Objective here is to show that this can be easily performed using einsum.\n",
    "### Exercise:\n",
    "Objective: Try to compute gaussian distribution (in both 1D and 2D) using einsum. In depth details of gaussian distribution can be found here in [3]. The below image depicts the guassian distribution formula taken from [3].\n",
    "![Multivariate Gaussian Distribution](./multigauss.jpeg \"Multivariate Gaussian Distribution\")"
   ]
  },
  {
   "cell_type": "markdown",
   "id": "84987130",
   "metadata": {},
   "source": [
    "## References:\n",
    "1. Pytorch contributors, torch.einsum, 2023. https://pytorch.org/docs/stable/generated/torch.einsum.html\n",
    "2. Vaswani, Ashish, et al. \"Attention is all you need.\" Advances in neural information processing systems 30 (2017).\n",
    "3. Professor Ng, Anomaly detection - Stanford machine learning, 2019. http://www.holehouse.org/mlclass/15_Anomaly_Detection.html"
   ]
  }
 ],
 "metadata": {
  "kernelspec": {
   "display_name": "Python 3 (ipykernel)",
   "language": "python",
   "name": "python3"
  },
  "language_info": {
   "codemirror_mode": {
    "name": "ipython",
    "version": 3
   },
   "file_extension": ".py",
   "mimetype": "text/x-python",
   "name": "python",
   "nbconvert_exporter": "python",
   "pygments_lexer": "ipython3",
   "version": "3.10.10"
  }
 },
 "nbformat": 4,
 "nbformat_minor": 5
}
